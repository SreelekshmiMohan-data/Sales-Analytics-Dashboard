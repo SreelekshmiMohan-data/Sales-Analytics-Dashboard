{
 "cells": [
  {
   "cell_type": "code",
   "execution_count": 3,
   "id": "5c8d9996-65d9-49eb-ac6c-62cefb75bdd9",
   "metadata": {},
   "outputs": [],
   "source": [
    "import pandas as pd\n",
    "import datetime\n",
    "import sqlite3\n",
    "\n",
    "#---------Loading data using sqlite---------------\n",
    "conn = sqlite3.connect(\"sales.db\")\n",
    "query = \"\"\"\n",
    "SELECT \n",
    "    OrderDate, \n",
    "    Sales, \n",
    "    CustomerID, \n",
    "    OrderID\n",
    "FROM \n",
    "    sales\n",
    "\"\"\"\n",
    "df = pd.read_sql(query, conn)\n",
    "\n",
    "#---------Convert OrderDate to datetime-----------\n",
    "df['OrderDate'] = pd.to_datetime(df['OrderDate'], dayfirst = True)"
   ]
  },
  {
   "cell_type": "code",
   "execution_count": 4,
   "id": "2302c7c8-0c8a-4d41-a431-76dfd5adcfbd",
   "metadata": {},
   "outputs": [
    {
     "name": "stdout",
     "output_type": "stream",
     "text": [
      "            Recency  Frequency  Monetary R_Score F_Score M_Score RFM_Segment\n",
      "CustomerID                                                                  \n",
      "AA-10315        185         11  5563.560       2       3       5         235\n",
      "AA-10375         20         15  1056.390       5       4       2         542\n",
      "AA-10480        260         12  1790.512       1       3       3         133\n",
      "AA-10645         56         18  5086.935       3       5       5         355\n",
      "AB-10015        416          6   886.156       1       1       1         111\n"
     ]
    }
   ],
   "source": [
    "import datetime as dt\n",
    "\n",
    "#-------Define the snapshot date (the latest purchase date in the dataset)----\n",
    "snapshot_date = df['OrderDate'].max() + dt.timedelta(days=1)\n",
    "\n",
    "#--------Calculate RFM metrics------------------------------------------------\n",
    "rfm = df.groupby('CustomerID').agg({\n",
    "    'OrderDate': lambda x: (snapshot_date - x.max()).days,           # Recency of purchase\n",
    "    'OrderID': 'count',                                              # Frequency of purchase\n",
    "    'Sales': 'sum'                                                   # Amount spent (Monetary) \n",
    "})\n",
    "\n",
    "#--------Rename columns to relevent names--------------------------------------\n",
    "rfm.columns = ['Recency', 'Frequency', 'Monetary']\n",
    "\n",
    "#--------Assign RFM scores (1-5) based on analysis-----------------------------\n",
    "rfm['R_Score'] = pd.qcut(rfm['Recency'], 5, labels=[5, 4, 3, 2, 1])\n",
    "rfm['F_Score'] = pd.qcut(rfm['Frequency'].rank(method=\"first\"), 5, labels=[1, 2, 3, 4, 5])\n",
    "rfm['M_Score'] = pd.qcut(rfm['Monetary'], 5, labels=[1, 2, 3, 4, 5])\n",
    "\n",
    "#--------Create RFM segment by combining scores---------------------------------\n",
    "rfm['RFM_Segment'] = rfm['R_Score'].astype(str) + rfm['F_Score'].astype(str) + rfm['M_Score'].astype(str)\n",
    "\n",
    "print(rfm.head(5))\n"
   ]
  },
  {
   "cell_type": "code",
   "execution_count": null,
   "id": "664775a5-cc6a-48aa-85d8-3351ea6501bf",
   "metadata": {},
   "outputs": [],
   "source": []
  }
 ],
 "metadata": {
  "kernelspec": {
   "display_name": "Python 3 (ipykernel)",
   "language": "python",
   "name": "python3"
  },
  "language_info": {
   "codemirror_mode": {
    "name": "ipython",
    "version": 3
   },
   "file_extension": ".py",
   "mimetype": "text/x-python",
   "name": "python",
   "nbconvert_exporter": "python",
   "pygments_lexer": "ipython3",
   "version": "3.13.2"
  }
 },
 "nbformat": 4,
 "nbformat_minor": 5
}
