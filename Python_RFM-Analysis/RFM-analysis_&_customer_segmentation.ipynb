{
 "cells": [
  {
   "cell_type": "code",
   "execution_count": 1,
   "id": "e5cea1ca-f2e4-4da4-a738-a1e1db6f9c6c",
   "metadata": {},
   "outputs": [
    {
     "name": "stdout",
     "output_type": "stream",
     "text": [
      "Index(['CustomerID', 'CustomerName', 'TotalSpent'], dtype='object')\n"
     ]
    }
   ],
   "source": [
    "import pandas as pd\n",
    "import sqlite3\n",
    "\n",
    "# Connecting to SQLite database\n",
    "conn = sqlite3.connect('sales.db')\n",
    "\n",
    "# Load data into a DataFrame\n",
    "query = \"SELECT CustomerID, CustomerName, SUM(Sales) AS TotalSpent FROM sales GROUP BY CustomerID, CustomerName;\"\n",
    "df = pd.read_sql(query, conn)\n",
    "\n",
    "# Close connection\n",
    "#conn.close()\n",
    "print(df.columns)\n"
   ]
  },
  {
   "cell_type": "code",
   "execution_count": 2,
   "id": "dd2aa4c3-02e4-4cd7-acca-8528718cb10a",
   "metadata": {},
   "outputs": [
    {
     "name": "stdout",
     "output_type": "stream",
     "text": [
      "  CustomerID  Recency  Frequency  Monetary\n",
      "0   AA-10315     2067         11  5563.560\n",
      "1   AA-10375     1902         15  1056.390\n",
      "2   AA-10480     2142         12  1790.512\n",
      "3   AA-10645     1938         18  5086.935\n",
      "4   AB-10015     2298          6   886.156\n"
     ]
    }
   ],
   "source": [
    "import pandas as pd\n",
    "import datetime\n",
    "import sqlite3\n",
    "\n",
    "# Simulate present date\n",
    "today = datetime.datetime(2024, 2, 25)\n",
    "\n",
    "# Connect to SQLite database and load the data\n",
    "conn = sqlite3.connect(\"sales.db\")\n",
    "query = \"\"\"\n",
    "SELECT OrderDate, Sales, CustomerID, OrderID\n",
    "FROM sales\n",
    "\"\"\"\n",
    "df = pd.read_sql(query, conn)\n",
    "\n",
    "# Convert OrderDate to datetime\n",
    "df['OrderDate'] = pd.to_datetime(df['OrderDate'], dayfirst = True)\n",
    "\n",
    "# Calculate RFM metrics\n",
    "rfm = df.groupby('CustomerID').agg({\n",
    "    'OrderDate': lambda x: (today - x.max()).days,  # Recency: days since last purchase\n",
    "    'OrderID': 'count',  # Frequency: number of orders\n",
    "    'Sales': 'sum'  # Monetary: total sales\n",
    "}).reset_index()\n",
    "\n",
    "# Rename the columns\n",
    "rfm.columns = ['CustomerID', 'Recency', 'Frequency', 'Monetary']\n",
    "\n",
    "# Display the RFM dataframe\n",
    "print(rfm.head())"
   ]
  },
  {
   "cell_type": "code",
   "execution_count": 3,
   "id": "752b5108-0964-4357-9acf-31646a8145d8",
   "metadata": {},
   "outputs": [
    {
     "name": "stdout",
     "output_type": "stream",
     "text": [
      "  CustomerID  Recency  Frequency  Monetary  Cluster\n",
      "0   AA-10315     2067         11  5563.560        0\n",
      "1   AA-10375     1902         15  1056.390        0\n",
      "2   AA-10480     2142         12  1790.512        1\n",
      "3   AA-10645     1938         18  5086.935        0\n",
      "4   AB-10015     2298          6   886.156        3\n"
     ]
    }
   ],
   "source": [
    "import warnings\n",
    "warnings.filterwarnings(\"ignore\")\n",
    "\n",
    "from sklearn.cluster import KMeans\n",
    "from sklearn.preprocessing import StandardScaler\n",
    "\n",
    "# Scale data\n",
    "scaler = StandardScaler()\n",
    "rfm_scaled = scaler.fit_transform(rfm[['Recency', 'Frequency', 'Monetary']])\n",
    "\n",
    "# Apply K-Means\n",
    "kmeans = KMeans(n_clusters=4, random_state=42)\n",
    "rfm['Cluster'] = kmeans.fit_predict(rfm_scaled)\n",
    "\n",
    "print(rfm.head())\n"
   ]
  },
  {
   "cell_type": "code",
   "execution_count": null,
   "id": "24654da5-1a9d-47f8-9518-ef3f0ab1a1ee",
   "metadata": {},
   "outputs": [],
   "source": []
  },
  {
   "cell_type": "code",
   "execution_count": 4,
   "id": "fd717b27-0f53-4d00-8f30-835ec5c3195e",
   "metadata": {},
   "outputs": [
    {
     "name": "stdout",
     "output_type": "stream",
     "text": [
      "            Recency  Frequency  Monetary R_Score F_Score M_Score RFM_Segment\n",
      "CustomerID                                                                  \n",
      "AA-10315        185         11  5563.560       2       3       5         235\n",
      "AA-10375         20         15  1056.390       5       4       2         542\n",
      "AA-10480        260         12  1790.512       1       3       3         133\n",
      "AA-10645         56         18  5086.935       3       5       5         355\n",
      "AB-10015        416          6   886.156       1       1       1         111\n"
     ]
    }
   ],
   "source": [
    "import datetime as dt\n",
    "\n",
    "# Define the snapshot date (the latest purchase date in the dataset)\n",
    "snapshot_date = df['OrderDate'].max() + dt.timedelta(days=1)\n",
    "\n",
    "# Calculate RFM metrics\n",
    "rfm = df.groupby('CustomerID').agg({\n",
    "    'OrderDate': lambda x: (snapshot_date - x.max()).days,  # Recency\n",
    "    'OrderID': 'count',  # Frequency\n",
    "    'Sales': 'sum'  # Monetary\n",
    "})\n",
    "\n",
    "# Rename columns\n",
    "rfm.columns = ['Recency', 'Frequency', 'Monetary']\n",
    "\n",
    "# Assign RFM scores (1-5) using quantiles\n",
    "rfm['R_Score'] = pd.qcut(rfm['Recency'], 5, labels=[5, 4, 3, 2, 1])\n",
    "rfm['F_Score'] = pd.qcut(rfm['Frequency'].rank(method=\"first\"), 5, labels=[1, 2, 3, 4, 5])\n",
    "rfm['M_Score'] = pd.qcut(rfm['Monetary'], 5, labels=[1, 2, 3, 4, 5])\n",
    "\n",
    "# Create RFM segment by combining scores\n",
    "rfm['RFM_Segment'] = rfm['R_Score'].astype(str) + rfm['F_Score'].astype(str) + rfm['M_Score'].astype(str)\n",
    "\n",
    "print(rfm.head(5))\n"
   ]
  },
  {
   "cell_type": "code",
   "execution_count": null,
   "id": "adf90090-a737-4d4d-a101-390cd2bc2f43",
   "metadata": {},
   "outputs": [],
   "source": []
  }
 ],
 "metadata": {
  "kernelspec": {
   "display_name": "Python 3 (ipykernel)",
   "language": "python",
   "name": "python3"
  },
  "language_info": {
   "codemirror_mode": {
    "name": "ipython",
    "version": 3
   },
   "file_extension": ".py",
   "mimetype": "text/x-python",
   "name": "python",
   "nbconvert_exporter": "python",
   "pygments_lexer": "ipython3",
   "version": "3.11.3"
  }
 },
 "nbformat": 4,
 "nbformat_minor": 5
}
